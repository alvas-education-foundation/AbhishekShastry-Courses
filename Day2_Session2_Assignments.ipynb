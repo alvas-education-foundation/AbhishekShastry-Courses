{
  "nbformat": 4,
  "nbformat_minor": 0,
  "metadata": {
    "colab": {
      "name": "Day2_Session2_Assignments.ipynb",
      "provenance": [],
      "collapsed_sections": [],
      "mount_file_id": "1ZjA98m615PjjO6atNjLgAjNQn7CVSgLD",
      "authorship_tag": "ABX9TyNb1dZrshxKiZ44xWQ67gMV",
      "include_colab_link": true
    },
    "kernelspec": {
      "name": "python3",
      "display_name": "Python 3"
    }
  },
  "cells": [
    {
      "cell_type": "markdown",
      "metadata": {
        "id": "view-in-github",
        "colab_type": "text"
      },
      "source": [
        "<a href=\"https://colab.research.google.com/github/alvas-education-foundation/AbhishekShastry-Courses/blob/master/Day2_Session2_Assignments.ipynb\" target=\"_parent\"><img src=\"https://colab.research.google.com/assets/colab-badge.svg\" alt=\"Open In Colab\"/></a>"
      ]
    },
    {
      "cell_type": "markdown",
      "metadata": {
        "id": "vRH-AmPHl1OR",
        "colab_type": "text"
      },
      "source": [
        "Dictionary"
      ]
    },
    {
      "cell_type": "code",
      "metadata": {
        "id": "SIXstH6ynWMo",
        "colab_type": "code",
        "colab": {
          "base_uri": "https://localhost:8080/",
          "height": 153
        },
        "outputId": "700e176a-9801-41d4-9d4b-835fcc690084"
      },
      "source": [
        "#Add name and marks {name:mark} for n number of students through keyboard in a dictionary and print the marks in descending order with respective name.\n",
        "\n",
        "import operator\n",
        "n=int(input(\"Enter no of students: \"))\n",
        "di = {}\n",
        "for i in range(1,n+1):\n",
        "    name= input(\"Enter name %d: \"%(i))\n",
        "    mark=int(input(\"Enter mark %d: \"%(i)))\n",
        "    di[name]=mark\n",
        "print(sorted(di.items(), key=operator.itemgetter(1), reverse=True))\n"
      ],
      "execution_count": 18,
      "outputs": [
        {
          "output_type": "stream",
          "text": [
            "Enter no of students: 3\n",
            "Enter name 1: ccc\n",
            "Enter mark 1: 56\n",
            "Enter name 2: aaa\n",
            "Enter mark 2: 67\n",
            "Enter name 3: bbb\n",
            "Enter mark 3: 88\n",
            "[('bbb', 88), ('aaa', 67), ('ccc', 56)]\n"
          ],
          "name": "stdout"
        }
      ]
    },
    {
      "cell_type": "code",
      "metadata": {
        "id": "ipwL6uQsPv-u",
        "colab_type": "code",
        "colab": {
          "base_uri": "https://localhost:8080/",
          "height": 187
        },
        "outputId": "6143fde0-fee9-4544-b7b4-241583b3d4a5"
      },
      "source": [
        "#Add  name and salary {name:salary} for n number of employees through keyboard in a dictionary and print them in name alphabetical order with salary\n",
        "\n",
        "import operator\n",
        "n=int(input(\"Enter no of employee: \"))\n",
        "di = {}\n",
        "for i in range(1,n+1):\n",
        "    name= input(\"Enter name %d: \"%(i))\n",
        "    sal=int(input(\"Enter salary %d: \"%(i)))\n",
        "    di[name]=sal\n",
        "print(sorted(di.items(), key=operator.itemgetter(0)))"
      ],
      "execution_count": 22,
      "outputs": [
        {
          "output_type": "stream",
          "text": [
            "Enter no of employee: 4\n",
            "Enter name 1: ccc\n",
            "Enter salary 1: 34566\n",
            "Enter name 2: aaa\n",
            "Enter salary 2: 34543\n",
            "Enter name 3: ddd\n",
            "Enter salary 3: 67843\n",
            "Enter name 4: bbb\n",
            "Enter salary 4: 85644\n",
            "[('aaa', 34543), ('bbb', 85644), ('ccc', 34566), ('ddd', 67843)]\n"
          ],
          "name": "stdout"
        }
      ]
    },
    {
      "cell_type": "code",
      "metadata": {
        "id": "WNtkqDHcQ0mm",
        "colab_type": "code",
        "colab": {
          "base_uri": "https://localhost:8080/",
          "height": 255
        },
        "outputId": "e3be0278-8fdb-4e0a-9f3c-508c06eb7753"
      },
      "source": [
        "#Add  name and salary {name:salary} for n number of employees through keyboard in a dictionary and print them in salary  ascending order and  sum, max, min and average of the salaries\n",
        "\n",
        "import operator\n",
        "n=int(input(\"Enter no of employee: \"))\n",
        "di = {}\n",
        "for i in range(1,n+1):\n",
        "    name= input(\"Enter name %d: \"%(i))\n",
        "    sal=int(input(\"Enter salary %d: \"%(i)))\n",
        "    di[name]=sal\n",
        "print(sorted(di.items(), key=operator.itemgetter(1)))\n",
        "print(\"Sum of salaries: \"+str(sum(di.values())))\n",
        "print(\"Max salary: \"+str(max(di.values())))\n",
        "print(\"Min salary: \"+str(min(di.values())))\n",
        "print(\"Avg of salaries: \"+str(sum(di.values())/len(di.values())))"
      ],
      "execution_count": 23,
      "outputs": [
        {
          "output_type": "stream",
          "text": [
            "Enter no of employee: 4\n",
            "Enter name 1: ccc\n",
            "Enter salary 1: 35633\n",
            "Enter name 2: aaa\n",
            "Enter salary 2: 54634\n",
            "Enter name 3: bbb\n",
            "Enter salary 3: 23434\n",
            "Enter name 4: ddd\n",
            "Enter salary 4: 75674\n",
            "[('bbb', 23434), ('ccc', 35633), ('aaa', 54634), ('ddd', 75674)]\n",
            "Sum of salaries: 189375\n",
            "Max salary: 75674\n",
            "Min salary: 23434\n",
            "Avg of salaries: 47343.75\n"
          ],
          "name": "stdout"
        }
      ]
    },
    {
      "cell_type": "code",
      "metadata": {
        "id": "FsLQe6KYSNQ-",
        "colab_type": "code",
        "colab": {
          "base_uri": "https://localhost:8080/",
          "height": 187
        },
        "outputId": "12feab0f-c841-4fb1-f8a6-e4d3360eac7e"
      },
      "source": [
        "#Add name and salary {name:salary} for n number of employees through keyboard in a dictionary and print only the employees whose salary is greater than 2000 but less than 4000\n",
        "\n",
        "import operator\n",
        "n=int(input(\"Enter no of employee: \"))\n",
        "di = {}\n",
        "for i in range(1,n+1):\n",
        "    name= input(\"Enter name %d: \"%(i))\n",
        "    sal=int(input(\"Enter salary %d: \"%(i)))\n",
        "    di[name]=sal\n",
        "print({n:s for (n,s) in di.items() if 2000 < s <4000})"
      ],
      "execution_count": 35,
      "outputs": [
        {
          "output_type": "stream",
          "text": [
            "Enter no of employee: 4\n",
            "Enter name 1: ddd\n",
            "Enter salary 1: 2584\n",
            "Enter name 2: aaa\n",
            "Enter salary 2: 1234\n",
            "Enter name 3: ccc\n",
            "Enter salary 3: 3999\n",
            "Enter name 4: bbb\n",
            "Enter salary 4: 2020\n",
            "{'ddd': 2584, 'ccc': 3999, 'bbb': 2020}\n"
          ],
          "name": "stdout"
        }
      ]
    },
    {
      "cell_type": "code",
      "metadata": {
        "id": "hHS9nft6ZPmg",
        "colab_type": "code",
        "colab": {
          "base_uri": "https://localhost:8080/",
          "height": 51
        },
        "outputId": "982fe619-f31c-4f8a-abb9-ad7120612744"
      },
      "source": [
        "#Python program to convert a 3 digit number  into words\n",
        "\n",
        "d={0:'',1:'one',2:'two',3:'three',4:'four',5:'five',6:'six',7:'seven',8:'eight',9:'nine',\\\n",
        "   10:'ten',11:'eleven',12:'twelve',13:'thirteen',14:'fourteen',15:'fifteen',16:'sixteen',\\\n",
        "   17:'seventeen',18:'eightteen',19:'nineteen',20:'twenty',30:'thirty',40:'fourty',50:'fifty',\\\n",
        "   60:'sixty',70:'seventy',80:'eighty',90:'ninty',100:'hundred'}\n",
        "\n",
        "num=int(input(\"Enter the integer between 1 to 999:\"))\n",
        "if (num<=20):\n",
        "      print(d[num])\n",
        "if (num>20 and num<100):\n",
        "        if num%10==0:       \n",
        "            print(d[num])\n",
        "        else:\n",
        "            print(d[num//10*10]+\" \"+d[num%10])\n",
        "if (num>=100 and num<1000):\n",
        "  if num%100 == 0:\n",
        "    print(d[num//100]+\" \"+d[100])\n",
        "  elif num%10 == 0:\n",
        "    print(d[num//100]+ \" \" + d[100]+ \" \" +d[num-num//100*100])\n",
        "  else:\n",
        "    print(d[num//100]+ \" \" + d[100]+ \" \" +d[num-num//100*100-num%10]+ \" \"+ d[num%10])\n",
        "\n"
      ],
      "execution_count": 43,
      "outputs": [
        {
          "output_type": "stream",
          "text": [
            "Enter the integer between 1 to 999:999\n",
            "nine hundred ninty nine\n"
          ],
          "name": "stdout"
        }
      ]
    },
    {
      "cell_type": "markdown",
      "metadata": {
        "id": "nDTsWW5xl_3r",
        "colab_type": "text"
      },
      "source": [
        "Files"
      ]
    },
    {
      "cell_type": "code",
      "metadata": {
        "id": "o2L-vblslx7C",
        "colab_type": "code",
        "colab": {
          "base_uri": "https://localhost:8080/",
          "height": 51
        },
        "outputId": "0f756dd1-7f1a-49ad-cde7-b38410daf5a7"
      },
      "source": [
        "#Python Program to count the total number of charaters (except blank space) in a text file.\n",
        "\n",
        "file = 'drive/My Drive/doc.txt'\n",
        "num_ch = 0\n",
        "with open(file, 'r') as f:\n",
        "  for line in f:\n",
        "    words = line.split()\n",
        "    for i in range(len(words)):\n",
        "      num_ch += len(words[i])\n",
        "print(\"Number of characters:\")\n",
        "print(num_ch)\n"
      ],
      "execution_count": 47,
      "outputs": [
        {
          "output_type": "stream",
          "text": [
            "Number of characters:\n",
            "15\n"
          ],
          "name": "stdout"
        }
      ]
    },
    {
      "cell_type": "code",
      "metadata": {
        "id": "01fajoJ1qNp5",
        "colab_type": "code",
        "colab": {
          "base_uri": "https://localhost:8080/",
          "height": 34
        },
        "outputId": "be2f6665-d972-4a44-bd22-f899bfae1543"
      },
      "source": [
        "#Python Program to print all the numbers present in a text file with its total number of occurrence.\n",
        "\n",
        "digit = []\n",
        "file = 'drive/My Drive/doc.txt'\n",
        "with open(file, 'r') as f:\n",
        "  for line in f:\n",
        "    words = line.split()\n",
        "    for i in words:\n",
        "      for letter in i:\n",
        "        if letter.isdigit():\n",
        "          digit.append(letter)\n",
        "output = {x: digit.count(x) for x in set(digit)}\n",
        "print(output)"
      ],
      "execution_count": 66,
      "outputs": [
        {
          "output_type": "stream",
          "text": [
            "{'1': 3, '3': 2, '2': 3, '5': 1, '4': 1}\n"
          ],
          "name": "stdout"
        }
      ]
    },
    {
      "cell_type": "code",
      "metadata": {
        "id": "V2zAINpWv91g",
        "colab_type": "code",
        "colab": {}
      },
      "source": [
        "#Python Program to append the contents of one file to another file \n",
        "\n",
        "file1 = 'drive/My Drive/sample1.txt'\n",
        "file2 = 'drive/My Drive/sample2.txt'\n",
        "\n",
        "with open(file1,'r') as f:\n",
        "  with open(file2, \"a\") as f1:\n",
        "    for line in f: \n",
        "      f1.write(line)\n"
      ],
      "execution_count": 73,
      "outputs": []
    },
    {
      "cell_type": "code",
      "metadata": {
        "id": "-uzywoLgx5gO",
        "colab_type": "code",
        "colab": {
          "base_uri": "https://localhost:8080/",
          "height": 51
        },
        "outputId": "9c8e0a05-ee13-4c09-9728-245348c21b4b"
      },
      "source": [
        "#Python Program to count the number of blank spaces in a text file. \n",
        "\n",
        "file = 'drive/My Drive/doc.txt'\n",
        "num_bl = 0\n",
        "with open(file, 'r') as f:\n",
        "  for line in f:\n",
        "    words = line.split()\n",
        "    num_bl += len(words)-1\n",
        "print(\"Number of Blank spaces:\")\n",
        "print(num_bl)"
      ],
      "execution_count": 75,
      "outputs": [
        {
          "output_type": "stream",
          "text": [
            "Number of Blank spaces:\n",
            "6\n"
          ],
          "name": "stdout"
        }
      ]
    },
    {
      "cell_type": "code",
      "metadata": {
        "id": "MJ-9Bg51ylvg",
        "colab_type": "code",
        "colab": {
          "base_uri": "https://localhost:8080/",
          "height": 51
        },
        "outputId": "a3907298-d6a0-4e57-8337-7d798e8f4319"
      },
      "source": [
        "#Python Program to read a file and capitalize the first letter of every word in the file and copy the every word capitalized content  into another file and read it .\n",
        "\n",
        "file1 = 'drive/My Drive/sample1.txt'\n",
        "file2 = 'drive/My Drive/sample2.txt'\n",
        "\n",
        "with open(file1,'r') as f:\n",
        "  with open(file2, \"w\") as f1:\n",
        "    for line in f: \n",
        "      l = line.title()\n",
        "      f1.write(l)\n",
        "\n",
        "with open(file2, \"r\") as f1:\n",
        "  print(f1.read())"
      ],
      "execution_count": 87,
      "outputs": [
        {
          "output_type": "stream",
          "text": [
            "Csffcff Sadkfuf Akjsddgv\n",
            "Hdgd Ajsdh\n"
          ],
          "name": "stdout"
        }
      ]
    }
  ]
}