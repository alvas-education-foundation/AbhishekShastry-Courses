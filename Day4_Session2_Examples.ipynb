{
  "nbformat": 4,
  "nbformat_minor": 0,
  "metadata": {
    "colab": {
      "name": "Day4_Session2_Examples.ipynb",
      "provenance": [],
      "collapsed_sections": [],
      "authorship_tag": "ABX9TyN0OAakYoYzttQdDu8jtLSD",
      "include_colab_link": true
    },
    "kernelspec": {
      "name": "python3",
      "display_name": "Python 3"
    }
  },
  "cells": [
    {
      "cell_type": "markdown",
      "metadata": {
        "id": "view-in-github",
        "colab_type": "text"
      },
      "source": [
        "<a href=\"https://colab.research.google.com/github/alvas-education-foundation/AbhishekShastry-Courses/blob/master/Day4_Session2_Examples.ipynb\" target=\"_parent\"><img src=\"https://colab.research.google.com/assets/colab-badge.svg\" alt=\"Open In Colab\"/></a>"
      ]
    },
    {
      "cell_type": "code",
      "metadata": {
        "id": "cSqMr1zIljej",
        "colab_type": "code",
        "colab": {
          "base_uri": "https://localhost:8080/",
          "height": 34
        },
        "outputId": "7556952f-ebdb-4588-f37e-ffcc9959bb86"
      },
      "source": [
        "#Example #1\n",
        "\n",
        "x=[1, 2, 3, 4, 5, 6]\n",
        "result = []\n",
        "for idx in range(len(x)):\n",
        "\tresult.append(x[idx] * 2)\n",
        "print(result)\n"
      ],
      "execution_count": 1,
      "outputs": [
        {
          "output_type": "stream",
          "text": [
            "[2, 4, 6, 8, 10, 12]\n"
          ],
          "name": "stdout"
        }
      ]
    },
    {
      "cell_type": "code",
      "metadata": {
        "id": "9cYK062llsAD",
        "colab_type": "code",
        "colab": {
          "base_uri": "https://localhost:8080/",
          "height": 34
        },
        "outputId": "b36e85bb-b6e9-4ee5-bcdf-a3835bed13b0"
      },
      "source": [
        "#only 2 line! it is pythonic\n",
        "\n",
        "x=[1, 2, 3, 4, 5, 6]\n",
        "print([(element * 2) for element in x])\n"
      ],
      "execution_count": 2,
      "outputs": [
        {
          "output_type": "stream",
          "text": [
            "[2, 4, 6, 8, 10, 12]\n"
          ],
          "name": "stdout"
        }
      ]
    },
    {
      "cell_type": "code",
      "metadata": {
        "id": "cMCYWVrXlyQw",
        "colab_type": "code",
        "colab": {
          "base_uri": "https://localhost:8080/",
          "height": 34
        },
        "outputId": "a00fdc4e-772c-45f2-8fc9-4dac24ac12d8"
      },
      "source": [
        "#Example #2\n",
        "\n",
        "x=[1, 2, 3, 4, 5, 6, 7, 8, 9, 10]\n",
        "result = []\n",
        "for idx in range(len(x)):\n",
        "\tif x[idx] % 2 == 0:\n",
        "\t\tresult.append(x[idx] * 2)\n",
        "\telse:\n",
        "\t\tresult.append(x[idx])\n",
        "print(result)\n"
      ],
      "execution_count": 4,
      "outputs": [
        {
          "output_type": "stream",
          "text": [
            "[1, 4, 3, 8, 5, 12, 7, 16, 9, 20]\n"
          ],
          "name": "stdout"
        }
      ]
    },
    {
      "cell_type": "code",
      "metadata": {
        "id": "hNStvFcfl5Qg",
        "colab_type": "code",
        "colab": {
          "base_uri": "https://localhost:8080/",
          "height": 34
        },
        "outputId": "2ff93cb0-96ae-4fcf-9251-6412e7cff448"
      },
      "source": [
        "#the Pythonic way. The Pythonic way is to combine for and if using list comprehension\n",
        "\n",
        "x=[1, 2, 3, 4, 5, 6, 7, 8, 9, 10]\n",
        "[(element * 2 if element % 2 == 0 else element) for element in x]\n"
      ],
      "execution_count": 5,
      "outputs": [
        {
          "output_type": "execute_result",
          "data": {
            "text/plain": [
              "[1, 4, 3, 8, 5, 12, 7, 16, 9, 20]"
            ]
          },
          "metadata": {
            "tags": []
          },
          "execution_count": 5
        }
      ]
    },
    {
      "cell_type": "code",
      "metadata": {
        "id": "SjEVeXZal8Zx",
        "colab_type": "code",
        "colab": {
          "base_uri": "https://localhost:8080/",
          "height": 34
        },
        "outputId": "2fadb63f-8847-4d59-e5ad-c3d054924fd0"
      },
      "source": [
        "#Example #3 filtering only even numbers\n",
        "\n",
        "x=[1, 2, 3, 4, 5, 6, 7, 8, 9, 10]\n",
        "result = []\n",
        "for idx in range(len(x)):\n",
        "  if x[idx] % 2 == 1:\n",
        "    result.append(idx)\n",
        "print(result)\n"
      ],
      "execution_count": 14,
      "outputs": [
        {
          "output_type": "stream",
          "text": [
            "[0, 2, 4, 6, 8]\n"
          ],
          "name": "stdout"
        }
      ]
    },
    {
      "cell_type": "code",
      "metadata": {
        "id": "YACHV4pDmjMe",
        "colab_type": "code",
        "colab": {
          "base_uri": "https://localhost:8080/",
          "height": 34
        },
        "outputId": "a362ca2c-f0f1-4fa1-81a3-7c8243140e0d"
      },
      "source": [
        "#the Pythonic way.\n",
        "\n",
        "x=[1, 2, 3, 4, 5, 6, 7, 8, 9, 10]\n",
        "[element * 2 for element in x if element % 2 == 0]\n"
      ],
      "execution_count": 12,
      "outputs": [
        {
          "output_type": "execute_result",
          "data": {
            "text/plain": [
              "[4, 8, 12, 16, 20]"
            ]
          },
          "metadata": {
            "tags": []
          },
          "execution_count": 12
        }
      ]
    }
  ]
}