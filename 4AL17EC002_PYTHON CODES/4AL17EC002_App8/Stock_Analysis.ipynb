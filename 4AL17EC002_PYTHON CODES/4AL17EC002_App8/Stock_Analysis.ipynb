{
 "cells": [
  {
   "cell_type": "code",
   "execution_count": 16,
   "metadata": {},
   "outputs": [],
   "source": [
    "from pandas_datareader import data\n",
    "import datetime\n",
    "from bokeh.plotting import figure, show, output_file\n",
    "from bokeh.embed import components\n",
    "from bokeh.resources import CDN\n",
    "\n",
    "start_time = datetime.datetime(2020,1,1)\n",
    "end_time = datetime.datetime(2020,6,3)\n",
    "\n",
    "Company_tname = \"TCS\"\n",
    "\n",
    "df = data.DataReader(name = Company_tname, data_source = \"yahoo\",start = start_time, end = end_time)\n",
    "\n",
    "def inc_dec (c, o):\n",
    "    if c > o:\n",
    "        value = \"Increase\"\n",
    "    elif c < o:\n",
    "        value = 'Decrease'\n",
    "    else:\n",
    "        value = 'Equal'\n",
    "    return value\n",
    "        \n",
    "df[\"status\"] = [inc_dec (c,o) for c,o in zip(df.Close,df.Open)]\n",
    "df[\"Middle\"] = (df.Close+df.Open)/2\n",
    "df[\"Height\"] = abs(df.Close-df.Open)\n",
    "\n",
    "p = figure(x_axis_type = 'datetime', width = 1000, height = 300, sizing_mode = 'scale_width')\n",
    "p.title.text = \"Candlestick Chart \"+\"-\"+(Company_tname)\n",
    "p.title.text_font_size='20pt'\n",
    "p.title.align = 'center'\n",
    "p.grid.grid_line_alpha = 0.4\n",
    "\n",
    "hours_12 = 12*60*60*1000\n",
    "\n",
    "p.segment(df.index, df.High, df.index, df.Low, line_color = 'black')\n",
    "\n",
    "p.rect(df.index[df.status == \"Increase\"], df.Middle[df.status == 'Increase'], hours_12, \n",
    "       df.Height[df.status == \"Increase\"], fill_color = (211,211,211), line_color = 'black')\n",
    "\n",
    "p.rect(df.index[df.status == \"Decrease\"], df.Middle[df.status == 'Decrease'], hours_12, \n",
    "       df.Height[df.status == \"Decrease\"], fill_color = \"#B22222\", line_color = 'black')\n",
    "\n",
    "script1, div1 = components(p)\n",
    "cdn_js = CDN.js_files\n",
    "\n",
    "\n",
    "#output_file(\"Financial_Analysis.html\")\n",
    "#show(p)"
   ]
  },
  {
   "cell_type": "code",
   "execution_count": 20,
   "metadata": {},
   "outputs": [
    {
     "data": {
      "text/plain": [
       "['https://cdn.pydata.org/bokeh/release/bokeh-1.3.4.min.js',\n",
       " 'https://cdn.pydata.org/bokeh/release/bokeh-widgets-1.3.4.min.js',\n",
       " 'https://cdn.pydata.org/bokeh/release/bokeh-tables-1.3.4.min.js',\n",
       " 'https://cdn.pydata.org/bokeh/release/bokeh-gl-1.3.4.min.js']"
      ]
     },
     "execution_count": 20,
     "metadata": {},
     "output_type": "execute_result"
    }
   ],
   "source": [
    "cdn_js"
   ]
  },
  {
   "cell_type": "code",
   "execution_count": 21,
   "metadata": {},
   "outputs": [
    {
     "data": {
      "text/plain": [
       "'https://cdn.pydata.org/bokeh/release/bokeh-1.3.4.min.js'"
      ]
     },
     "execution_count": 21,
     "metadata": {},
     "output_type": "execute_result"
    }
   ],
   "source": [
    "cdn_js[0]  #Javascript link required for website."
   ]
  },
  {
   "cell_type": "code",
   "execution_count": null,
   "metadata": {},
   "outputs": [],
   "source": []
  }
 ],
 "metadata": {
  "kernelspec": {
   "display_name": "Python 3",
   "language": "python",
   "name": "python3"
  },
  "language_info": {
   "codemirror_mode": {
    "name": "ipython",
    "version": 3
   },
   "file_extension": ".py",
   "mimetype": "text/x-python",
   "name": "python",
   "nbconvert_exporter": "python",
   "pygments_lexer": "ipython3",
   "version": "3.7.4"
  }
 },
 "nbformat": 4,
 "nbformat_minor": 2
}
