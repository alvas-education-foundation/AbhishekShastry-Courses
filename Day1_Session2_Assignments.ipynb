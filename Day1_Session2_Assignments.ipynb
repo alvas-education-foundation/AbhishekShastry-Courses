{
  "nbformat": 4,
  "nbformat_minor": 0,
  "metadata": {
    "colab": {
      "name": "Day1_Session2_Assignments.ipynb",
      "provenance": [],
      "collapsed_sections": [],
      "authorship_tag": "ABX9TyMtVzFV3v4T9W/FuZA6oNH6",
      "include_colab_link": true
    },
    "kernelspec": {
      "name": "python3",
      "display_name": "Python 3"
    }
  },
  "cells": [
    {
      "cell_type": "markdown",
      "metadata": {
        "id": "view-in-github",
        "colab_type": "text"
      },
      "source": [
        "<a href=\"https://colab.research.google.com/github/alvas-education-foundation/AbhishekShastry-Courses/blob/master/Day1_Session2_Assignments.ipynb\" target=\"_parent\"><img src=\"https://colab.research.google.com/assets/colab-badge.svg\" alt=\"Open In Colab\"/></a>"
      ]
    },
    {
      "cell_type": "code",
      "metadata": {
        "id": "hkWG0H45zH-o",
        "colab_type": "code",
        "colab": {
          "base_uri": "https://localhost:8080/",
          "height": 102
        },
        "outputId": "1691e61d-1f50-4ae9-eb02-74b59b92d106"
      },
      "source": [
        "#Write a program to print the triangle \n",
        "\n",
        "n=4;\n",
        "for i in range(n+1):\n",
        "    for j in range(i):\n",
        "        print (j+i, end=\" \")\n",
        "    print('')\n"
      ],
      "execution_count": 7,
      "outputs": [
        {
          "output_type": "stream",
          "text": [
            "\n",
            "1 \n",
            "2 3 \n",
            "3 4 5 \n",
            "4 5 6 7 \n"
          ],
          "name": "stdout"
        }
      ]
    },
    {
      "cell_type": "code",
      "metadata": {
        "id": "K5idbvqJHsil",
        "colab_type": "code",
        "colab": {
          "base_uri": "https://localhost:8080/",
          "height": 102
        },
        "outputId": "86abce3e-b974-486b-e097-75ef88bdf6f4"
      },
      "source": [
        "#Write a program to print the triangle\n",
        "\n",
        "n=4;\n",
        "for i in range(n+1):\n",
        "    for j in range(i):\n",
        "        print (\"*\", end=\" \")\n",
        "    print('')"
      ],
      "execution_count": 10,
      "outputs": [
        {
          "output_type": "stream",
          "text": [
            "\n",
            "* \n",
            "* * \n",
            "* * * \n",
            "* * * * \n"
          ],
          "name": "stdout"
        }
      ]
    },
    {
      "cell_type": "code",
      "metadata": {
        "id": "LMoco2jlIT9_",
        "colab_type": "code",
        "colab": {
          "base_uri": "https://localhost:8080/",
          "height": 119
        },
        "outputId": "3f72c6a2-0131-4b13-cd72-4ef1798f82f7"
      },
      "source": [
        "#Write a program to print the triangle\n",
        "\n",
        "n=5;\n",
        "for i in range(n+1):\n",
        "    for j in range(i):\n",
        "        print (n-i+j+1, end=\" \")\n",
        "    print('')"
      ],
      "execution_count": 26,
      "outputs": [
        {
          "output_type": "stream",
          "text": [
            "\n",
            "5 \n",
            "4 5 \n",
            "3 4 5 \n",
            "2 3 4 5 \n",
            "1 2 3 4 5 \n"
          ],
          "name": "stdout"
        }
      ]
    },
    {
      "cell_type": "code",
      "metadata": {
        "id": "ttAukw1SPxP-",
        "colab_type": "code",
        "colab": {
          "base_uri": "https://localhost:8080/",
          "height": 119
        },
        "outputId": "6047766a-2545-4b9f-84c6-f0f8329e5e6d"
      },
      "source": [
        "#Write a program to print the triangle\n",
        "\n",
        "n=5\n",
        "for i in range(n+1):\n",
        "    for j in range(1,n+1):\n",
        "      print (n-j+1, end=\" \")\n",
        "    n-=1\n",
        "    print('')"
      ],
      "execution_count": 34,
      "outputs": [
        {
          "output_type": "stream",
          "text": [
            "5 4 3 2 1 \n",
            "4 3 2 1 \n",
            "3 2 1 \n",
            "2 1 \n",
            "1 \n",
            "\n"
          ],
          "name": "stdout"
        }
      ]
    },
    {
      "cell_type": "code",
      "metadata": {
        "id": "kiwhEZM_UzPb",
        "colab_type": "code",
        "colab": {
          "base_uri": "https://localhost:8080/",
          "height": 136
        },
        "outputId": "07a980fc-810a-4be1-ba9d-f22b28287ce6"
      },
      "source": [
        "#Write a program to print the triangle\n",
        "\n",
        "n=4\n",
        "for i in range(n+1):\n",
        "    for j in range(1,n+1):\n",
        "      print (j+i, end=\" \")\n",
        "    n-=1\n",
        "    if n>-1:\n",
        "      print(\"\")\n",
        "n=4\n",
        "for i in range(2,n+1):\n",
        "  for j in range(i):\n",
        "    print(n-i+j+1,end=\" \")\n",
        "  print(\"\")"
      ],
      "execution_count": 54,
      "outputs": [
        {
          "output_type": "stream",
          "text": [
            "1 2 3 4 \n",
            "2 3 4 \n",
            "3 4 \n",
            "4 \n",
            "3 4 \n",
            "2 3 4 \n",
            "1 2 3 4 \n"
          ],
          "name": "stdout"
        }
      ]
    },
    {
      "cell_type": "code",
      "metadata": {
        "id": "7A6UJfv4YpIp",
        "colab_type": "code",
        "colab": {
          "base_uri": "https://localhost:8080/",
          "height": 51
        },
        "outputId": "5d53ead5-9662-4810-c6ba-7a9df8456450"
      },
      "source": [
        "#Find the length of a string without using len functions\n",
        "\n",
        "s = input(\"Enter the string: \")\n",
        "j=0\n",
        "for i in s:\n",
        "  if i != '\\0':\n",
        "    j+=1\n",
        "print(j)\n"
      ],
      "execution_count": 57,
      "outputs": [
        {
          "output_type": "stream",
          "text": [
            "Enter the string: qwerty\n",
            "6\n"
          ],
          "name": "stdout"
        }
      ]
    },
    {
      "cell_type": "code",
      "metadata": {
        "id": "LShsiG3Dc5Ly",
        "colab_type": "code",
        "colab": {
          "base_uri": "https://localhost:8080/",
          "height": 68
        },
        "outputId": "bf55756c-d485-432d-e5a8-6d11ff0b6f8c"
      },
      "source": [
        "#Find the no of words and characters in a string\n",
        "\n",
        "s = input(\"Enter the string: \")\n",
        "j = 0\n",
        "for i in s:\n",
        "  if i == \" \":\n",
        "    j+=1\n",
        "print(\"No.of characters: \" + str(len(s)-j))\n",
        "print(\"No.of words: \" + str(j+1))"
      ],
      "execution_count": 59,
      "outputs": [
        {
          "output_type": "stream",
          "text": [
            "Enter the string: qwerty asdfg zxcv\n",
            "No.of characters: 15\n",
            "No.of words: 3\n"
          ],
          "name": "stdout"
        }
      ]
    },
    {
      "cell_type": "code",
      "metadata": {
        "id": "8O1-D6K-grvn",
        "colab_type": "code",
        "colab": {
          "base_uri": "https://localhost:8080/",
          "height": 68
        },
        "outputId": "67b8bcd7-d215-4159-e70c-fad7acd31c38"
      },
      "source": [
        "#Find the no of occurrences of a word in a string\n",
        "\n",
        "s = input(\"Enter the string: \")\n",
        "w = input(\"Enter the word: \")\n",
        "words = s.split()\n",
        "j = 0\n",
        "for i in words:\n",
        "  if i == w:\n",
        "    j+=1\n",
        "print(\"No.of occurances: \" + str(j))"
      ],
      "execution_count": 69,
      "outputs": [
        {
          "output_type": "stream",
          "text": [
            "Enter the string: zxc dsf bh derg dfrg zxc mhj zxc\n",
            "Enter the word: zxc\n",
            "No.of occurances: 3\n"
          ],
          "name": "stdout"
        }
      ]
    }
  ]
}